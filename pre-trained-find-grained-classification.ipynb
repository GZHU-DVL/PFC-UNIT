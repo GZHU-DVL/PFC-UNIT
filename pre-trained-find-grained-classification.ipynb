{
 "metadata": {
  "kernelspec": {
   "display_name": "Python 3",
   "language": "python",
   "name": "python3"
  },
  "language_info": {
   "name": "python",
   "version": "3.6.6",
   "mimetype": "text/x-python",
   "codemirror_mode": {
    "name": "ipython",
    "version": 3
   },
   "pygments_lexer": "ipython3",
   "nbconvert_exporter": "python",
   "file_extension": ".py"
  }
 },
 "nbformat_minor": 4,
 "nbformat": 4,
 "cells": [
  {
   "cell_type": "markdown",
   "source": [
    "## Pre-train the find-grained classifers using Pytorch\n",
    "\n",
    "The fine-grained classifier, designed for plug-and-play, is made up of a deep residual network ResNet34, an AdaptiveAvgPool2d for dimensional reduction, and a final linear layer for prediction."
   ],
   "metadata": {
    "pycharm": {
     "name": "#%% md\n"
    }
   }
  },
  {
   "cell_type": "code",
   "source": [
    "import matplotlib.pyplot as plt\n",
    "import numpy as np\n",
    "\n",
    "import torch\n",
    "import torch.nn as nn\n",
    "import torch.optim as optim\n",
    "import torchvision\n",
    "import torchvision.models as models\n",
    "import torchvision.transforms as transforms\n",
    "\n",
    "import time\n",
    "import os\n",
    "import PIL.Image as Image\n",
    "from IPython.display import display\n",
    "\n",
    "device = torch.device(\"cuda:0\" if torch.cuda.is_available() else \"cpu\")\n",
    "print(device)"
   ],
   "metadata": {
    "execution": {
     "iopub.status.busy": "2023-02-18T03:15:35.642032Z",
     "iopub.execute_input": "2023-02-18T03:15:35.642323Z",
     "iopub.status.idle": "2023-02-18T03:15:35.648320Z",
     "shell.execute_reply.started": "2023-02-18T03:15:35.642268Z",
     "shell.execute_reply": "2023-02-18T03:15:35.647268Z"
    },
    "trusted": true,
    "pycharm": {
     "name": "#%%\n"
    }
   },
   "execution_count": 17,
   "outputs": [
    {
     "name": "stdout",
     "text": "cuda:0\n",
     "output_type": "stream"
    }
   ]
  },
  {
   "cell_type": "markdown",
   "source": [
    "## Load the data and transform\n",
    "\n",
    "First, lets create some transforms for our data and load the train/test data+labels from the folders.\n",
    "\n",
    "Here we are using images with random horizontal flip, random rotation and normalization"
   ],
   "metadata": {
    "pycharm": {
     "name": "#%% md\n"
    }
   }
  },
  {
   "cell_type": "code",
   "source": [
    "\n",
    "train_tfms = transforms.Compose([transforms.Resize((400, 400)),\n",
    "                                 transforms.RandomHorizontalFlip(),\n",
    "                                 transforms.RandomRotation(15),\n",
    "                                 transforms.ToTensor(),\n",
    "                                 transforms.Normalize((0.5, 0.5, 0.5), (0.5, 0.5, 0.5))])\n",
    "test_tfms = transforms.Compose([transforms.Resize((400, 400)),\n",
    "                                transforms.ToTensor(),\n",
    "                                transforms.Normalize((0.5, 0.5, 0.5), (0.5, 0.5, 0.5))])\n",
    "\n",
    "# car_classifer\n",
    "# dataset_dir = \"../input/car_data/car_data/\"\n",
    "# dataset = torchvision.datasets.ImageFolder(root=dataset_dir+\"train\", transform = train_tfms)\n",
    "# dataset2 = torchvision.datasets.ImageFolder(root=dataset_dir+\"test\", transform = test_tfms)\n",
    "\n",
    "# bird_classifer\n",
    "# dataset_dir = \"../input/100-bird-species/\"\n",
    "# dataset = torchvision.datasets.ImageFolder(root=dataset_dir+\"train\", transform = train_tfms)\n",
    "# dataset2 = torchvision.datasets.ImageFolder(root=dataset_dir+\"test\", transform = test_tfms)\n",
    "\n",
    "# dog_classifer\n",
    "dataset_dir = \"../input/dog-breed-classification/\"\n",
    "dataset = torchvision.datasets.ImageFolder(root=dataset_dir+\"dog/train\", transform = train_tfms)\n",
    "dataset2 = torchvision.datasets.ImageFolder(root=dataset_dir+\"dog/test\", transform = test_tfms)\n",
    "\n",
    "# cat_classifer67\n",
    "# dataset_dir = \"../input/cat-breed-classification67-mini/train_valid_test/\"\n",
    "# dataset = torchvision.datasets.ImageFolder(root=dataset_dir+\"train\", transform = train_tfms)\n",
    "# dataset2 = torchvision.datasets.ImageFolder(root=dataset_dir+\"test\", transform = test_tfms)\n",
    "\n",
    "# human_age_classifer\n",
    "# dataset_dir = \"../input/age-stage-identification/new/\"\n",
    "# dataset = torchvision.datasets.ImageFolder(root=dataset_dir+\"train\", transform = train_tfms)\n",
    "# dataset2 = torchvision.datasets.ImageFolder(root=dataset_dir+\"test\", transform = test_tfms)\n",
    "\n",
    "# facial_expression_classifer\n",
    "# dataset_dir = \"../input/mma-facial-expression/MMAFEDB/\"\n",
    "# dataset = torchvision.datasets.ImageFolder(root=dataset_dir+\"test\", transform = train_tfms)\n",
    "# dataset2 = torchvision.datasets.ImageFolder(root=dataset_dir+\"test\", transform = test_tfms)\n",
    "\n",
    "trainloader = torch.utils.data.DataLoader(dataset, batch_size = 32, shuffle=True, num_workers = 2)\n",
    "testloader = torch.utils.data.DataLoader(dataset2, batch_size = 32, shuffle=False, num_workers = 2)\n"
   ],
   "metadata": {
    "execution": {
     "iopub.status.busy": "2023-02-18T03:16:31.418615Z",
     "iopub.execute_input": "2023-02-18T03:16:31.418911Z",
     "iopub.status.idle": "2023-02-18T03:16:31.632526Z",
     "shell.execute_reply.started": "2023-02-18T03:16:31.418860Z",
     "shell.execute_reply": "2023-02-18T03:16:31.631708Z"
    },
    "trusted": true,
    "pycharm": {
     "name": "#%%\n"
    }
   },
   "execution_count": 23,
   "outputs": []
  },
  {
   "cell_type": "markdown",
   "source": [
    "## Model training function\n",
    "\n",
    "Here we train our model, after each epoch, we test the model on the test data to see how it's going"
   ],
   "metadata": {
    "pycharm": {
     "name": "#%% md\n"
    }
   }
  },
  {
   "cell_type": "code",
   "source": [
    "def train_model(model, criterion, optimizer, scheduler, n_epochs = 1):\n",
    "    \n",
    "    losses = []\n",
    "    accuracies = []\n",
    "    test_accuracies = []\n",
    "    # set the model to train mode initially\n",
    "    model.train()\n",
    "    for epoch in range(n_epochs):\n",
    "        since = time.time()\n",
    "        running_loss = 0.0\n",
    "        running_correct = 0.0\n",
    "        for i, data in enumerate(trainloader, 0):\n",
    "\n",
    "            # get the inputs and assign them to cuda\n",
    "            inputs, labels = data\n",
    "            #inputs = inputs.to(device).half() # uncomment for half precision model\n",
    "            inputs = inputs.to(device)\n",
    "            labels = labels.to(device)\n",
    "            optimizer.zero_grad()\n",
    "            \n",
    "            # forward + backward + optimize\n",
    "            outputs = model(inputs)\n",
    "            _, predicted = torch.max(outputs.data, 1)\n",
    "            loss = criterion(outputs, labels)\n",
    "            loss.backward()\n",
    "            optimizer.step()\n",
    "            \n",
    "            # calculate the loss/acc later\n",
    "            running_loss += loss.item()\n",
    "            running_correct += (labels==predicted).sum().item()\n",
    "\n",
    "        epoch_duration = time.time()-since\n",
    "        epoch_loss = running_loss/len(trainloader)\n",
    "        epoch_acc = 100/32*running_correct/len(trainloader)\n",
    "        print(\"Epoch %s, duration: %d s, loss: %.4f, acc: %.4f\" % (epoch+1, epoch_duration, epoch_loss, epoch_acc))\n",
    "        \n",
    "        losses.append(epoch_loss)\n",
    "        accuracies.append(epoch_acc)\n",
    "        \n",
    "        # switch the model to eval mode to evaluate on test data\n",
    "        model.eval()\n",
    "        test_acc = eval_model(model)\n",
    "        test_accuracies.append(test_acc)\n",
    "        \n",
    "        # re-set the model to train mode after validating\n",
    "        model.train()\n",
    "        scheduler.step(test_acc)\n",
    "        since = time.time()\n",
    "    print('Finished Training')\n",
    "    return model, losses, accuracies, test_accuracies\n",
    "\n",
    "    "
   ],
   "metadata": {
    "execution": {
     "iopub.status.busy": "2023-02-18T03:16:38.357061Z",
     "iopub.execute_input": "2023-02-18T03:16:38.357357Z",
     "iopub.status.idle": "2023-02-18T03:16:38.365273Z",
     "shell.execute_reply.started": "2023-02-18T03:16:38.357301Z",
     "shell.execute_reply": "2023-02-18T03:16:38.364552Z"
    },
    "trusted": true,
    "pycharm": {
     "name": "#%%\n"
    }
   },
   "execution_count": 24,
   "outputs": []
  },
  {
   "cell_type": "markdown",
   "source": [
    "### Evaluate on training data\n",
    "This function is called out after each epoch of training on the training data. We then measure the accuracy of the model."
   ],
   "metadata": {
    "pycharm": {
     "name": "#%% md\n"
    }
   }
  },
  {
   "cell_type": "code",
   "source": [
    "def eval_model(model):\n",
    "    correct = 0.0\n",
    "    total = 0.0\n",
    "    with torch.no_grad():\n",
    "        for i, data in enumerate(testloader, 0):\n",
    "            images, labels = data\n",
    "            #images = images.to(device).half() # uncomment for half precision model\n",
    "            images = images.to(device)\n",
    "            labels = labels.to(device)\n",
    "            \n",
    "            outputs = model_ft(images)\n",
    "            _, predicted = torch.max(outputs.data, 1)\n",
    "            \n",
    "            total += labels.size(0)\n",
    "            correct += (predicted == labels).sum().item()\n",
    "\n",
    "    test_acc = 100.0 * correct / total\n",
    "    print('Accuracy of the network on the test images: %d %%' % (\n",
    "        test_acc))\n",
    "    return test_acc"
   ],
   "metadata": {
    "execution": {
     "iopub.status.busy": "2023-02-18T03:16:42.876331Z",
     "iopub.execute_input": "2023-02-18T03:16:42.876721Z",
     "iopub.status.idle": "2023-02-18T03:16:42.887150Z",
     "shell.execute_reply.started": "2023-02-18T03:16:42.876664Z",
     "shell.execute_reply": "2023-02-18T03:16:42.886253Z"
    },
    "trusted": true,
    "pycharm": {
     "name": "#%%\n"
    }
   },
   "execution_count": 25,
   "outputs": []
  },
  {
   "cell_type": "code",
   "source": [
    "model_ft = models.resnet34(pretrained=True)\n",
    "num_ftrs = model_ft.fc.in_features\n",
    "\n",
    "# replace the last fc layer with an untrained one (requires grad by default)\n",
    "\n",
    "# car_classification\n",
    "# model_ft.fc = nn.Linear(num_ftrs, 196)\n",
    "\n",
    "# bird_classification\n",
    "# model_ft.fc = nn.Linear(num_ftrs, 450)\n",
    "\n",
    "# dog_classification\n",
    "model_ft.fc = nn.Linear(num_ftrs, 120)\n",
    "\n",
    "# cat_classification67\n",
    "# model_ft.fc = nn.Linear(num_ftrs, 67)\n",
    "\n",
    "# human_age_classification\n",
    "# model_ft.fc = nn.Linear(num_ftrs, 10)\n",
    "\n",
    "# human_facial_expression\n",
    "# model_ft.fc = nn.Linear(num_ftrs, 7)\n",
    "model_ft = model_ft.to(device)\n",
    "# print(\"model_ft:\")\n",
    "# print(model_ft)\n",
    "# uncomment this block for half precision model\n",
    "\"\"\"\n",
    "model_ft = model_ft.half()\n",
    "\n",
    "\n",
    "for layer in model_ft.modules():\n",
    "    if isinstance(layer, nn.BatchNorm2d):\n",
    "        layer.float()\n",
    "\"\"\"\n",
    "criterion = nn.CrossEntropyLoss()\n",
    "optimizer = optim.SGD(model_ft.parameters(), lr=0.01, momentum=0.9)#before 0.01,momentum=1\n",
    "\n",
    "\"\"\"\n",
    "probably not the best metric to track, but we are tracking the training accuracy and measuring whether\n",
    "it increases by atleast 0.9 per epoch and if it hasn't increased by 0.9 reduce the lr by 0.1x.\n",
    "However in this model it did not benefit me.\n",
    "\"\"\"\n",
    "# lrscheduler = optim.lr_scheduler.ReduceLROnPlateau(optimizer, mode='max', patience=3, threshold = 0.9)\n",
    "lrscheduler = optim.lr_scheduler.ReduceLROnPlateau(optimizer, mode='max', patience=3, threshold = 0.1,factor=0.1)"
   ],
   "metadata": {
    "_kg_hide-input": true,
    "execution": {
     "iopub.status.busy": "2023-02-18T03:16:46.616093Z",
     "iopub.execute_input": "2023-02-18T03:16:46.616408Z",
     "iopub.status.idle": "2023-02-18T03:16:47.184150Z",
     "shell.execute_reply.started": "2023-02-18T03:16:46.616334Z",
     "shell.execute_reply": "2023-02-18T03:16:47.183296Z"
    },
    "trusted": true,
    "pycharm": {
     "name": "#%%\n"
    }
   },
   "execution_count": 26,
   "outputs": []
  },
  {
   "cell_type": "code",
   "source": [
    "model_ft, training_losses, training_accs, test_accs = train_model(model_ft, criterion, optimizer, lrscheduler, n_epochs=20)"
   ],
   "metadata": {
    "execution": {
     "iopub.status.busy": "2023-02-18T03:16:51.952678Z",
     "iopub.execute_input": "2023-02-18T03:16:51.952957Z",
     "iopub.status.idle": "2023-02-18T04:02:30.470596Z",
     "shell.execute_reply.started": "2023-02-18T03:16:51.952907Z",
     "shell.execute_reply": "2023-02-18T04:02:30.469829Z"
    },
    "trusted": true,
    "pycharm": {
     "name": "#%%\n"
    }
   },
   "execution_count": 27,
   "outputs": [
    {
     "name": "stdout",
     "text": "Epoch 1, duration: 132 s, loss: 2.0573, acc: 48.3724\nAccuracy of the network on the test images: 55 %\nEpoch 2, duration: 124 s, loss: 1.1496, acc: 65.7552\nAccuracy of the network on the test images: 49 %\nEpoch 3, duration: 136 s, loss: 0.8900, acc: 72.6454\nAccuracy of the network on the test images: 57 %\nEpoch 4, duration: 124 s, loss: 0.7393, acc: 77.0399\nAccuracy of the network on the test images: 61 %\nEpoch 5, duration: 124 s, loss: 0.6142, acc: 80.3168\nAccuracy of the network on the test images: 63 %\nEpoch 6, duration: 128 s, loss: 0.5033, acc: 83.7782\nAccuracy of the network on the test images: 60 %\nEpoch 7, duration: 124 s, loss: 0.4082, acc: 86.8598\nAccuracy of the network on the test images: 66 %\nEpoch 8, duration: 124 s, loss: 0.3464, acc: 88.8563\nAccuracy of the network on the test images: 63 %\nEpoch 9, duration: 125 s, loss: 0.1507, acc: 95.8116\nAccuracy of the network on the test images: 76 %\nEpoch 10, duration: 124 s, loss: 0.0894, acc: 97.9818\nAccuracy of the network on the test images: 77 %\nEpoch 11, duration: 123 s, loss: 0.0698, acc: 98.5894\nAccuracy of the network on the test images: 78 %\nEpoch 12, duration: 123 s, loss: 0.0607, acc: 98.8932\nAccuracy of the network on the test images: 77 %\nEpoch 13, duration: 124 s, loss: 0.0516, acc: 99.0777\nAccuracy of the network on the test images: 77 %\nEpoch 14, duration: 124 s, loss: 0.0458, acc: 99.2839\nAccuracy of the network on the test images: 78 %\nEpoch 15, duration: 124 s, loss: 0.0459, acc: 99.2839\nAccuracy of the network on the test images: 78 %\nEpoch 16, duration: 125 s, loss: 0.0454, acc: 99.2296\nAccuracy of the network on the test images: 77 %\nEpoch 17, duration: 124 s, loss: 0.0450, acc: 99.2730\nAccuracy of the network on the test images: 77 %\nEpoch 18, duration: 124 s, loss: 0.0450, acc: 99.2947\nAccuracy of the network on the test images: 77 %\nEpoch 19, duration: 124 s, loss: 0.0448, acc: 99.2839\nAccuracy of the network on the test images: 77 %\nEpoch 20, duration: 124 s, loss: 0.0437, acc: 99.2730\nAccuracy of the network on the test images: 77 %\nFinished Training\n",
     "output_type": "stream"
    }
   ]
  },
  {
   "cell_type": "markdown",
   "source": [
    "### As we can see the model reached 90% training accuracy by epoch 10.\n"
   ],
   "metadata": {
    "pycharm": {
     "name": "#%% md\n"
    }
   }
  },
  {
   "cell_type": "code",
   "source": [
    "# plot the stats\n",
    "\n",
    "f, axarr = plt.subplots(2,2, figsize = (12, 8))\n",
    "axarr[0, 0].plot(training_losses)\n",
    "axarr[0, 0].set_title(\"Training loss\")\n",
    "axarr[0, 1].plot(training_accs)\n",
    "axarr[0, 1].set_title(\"Training acc\")\n",
    "axarr[1, 0].plot(test_accs)\n",
    "axarr[1, 0].set_title(\"Test acc\")"
   ],
   "metadata": {
    "trusted": true,
    "pycharm": {
     "name": "#%%\n"
    }
   },
   "execution_count": null,
   "outputs": []
  },
  {
   "cell_type": "markdown",
   "source": [
    "### Evaluate the model on single images (e.g for production)\n",
    "\n",
    "Next we can use the model on our own images. For that we need to tie the class numbers for which the model returns probablities with the names of those classes.\n"
   ],
   "metadata": {
    "pycharm": {
     "name": "#%% md\n"
    }
   }
  },
  {
   "cell_type": "code",
   "source": [
    "# tie the class indices to their names\n",
    "\n",
    "def find_classes(dir):\n",
    "    classes = os.listdir(dir)\n",
    "    classes.sort()\n",
    "    class_to_idx = {classes[i]: i for i in range(len(classes))}\n",
    "    return classes, class_to_idx\n",
    "# car classification\n",
    "# classes, c_to_idx = find_classes(dataset_dir+\"train\")\n",
    "\n",
    "# bird classification\n",
    "# classes, c_to_idx = find_classes(dataset_dir+\"train\")\n",
    "\n",
    "# dog classification\n",
    "classes, c_to_idx = find_classes(dataset_dir+\"dog/train\")\n",
    "\n",
    "# cat classification67\n",
    "# classes, c_to_idx = find_classes(dataset_dir+\"train\")\n",
    "\n",
    "# human age classification\n",
    "# classes, c_to_idx = find_classes(dataset_dir+\"train\")"
   ],
   "metadata": {
    "trusted": true,
    "pycharm": {
     "name": "#%%\n"
    }
   },
   "execution_count": null,
   "outputs": []
  },
  {
   "cell_type": "code",
   "source": [
    "# test the model on random images\n",
    "# switch the model to evaluation mode to make dropout and batch norm work in eval mode\n",
    "model_ft.eval()\n",
    "\n",
    "# transforms for the input image\n",
    "loader = transforms.Compose([transforms.Resize((400, 400)),\n",
    "                                transforms.ToTensor(),\n",
    "                                transforms.Normalize((0.5, 0.5, 0.5), (0.5, 0.5, 0.5))])\n",
    "image = Image.open(dataset_dir+\"/test/affenpinscher/42404238339c427c0fb830da89885d5e.jpg\")\n",
    "image = loader(image).float()\n",
    "image = torch.autograd.Variable(image, requires_grad=True)\n",
    "image = image.unsqueeze(0)\n",
    "image = image.cuda()\n",
    "print(\"image shape=\"+image.shape)\n",
    "output = model_ft(image)\n",
    "print(\"output=\")\n",
    "print(output)\n",
    "torch.save(model_ft.state_dict(), './identification_dog.pt')\n",
    "conf, predicted = torch.max(output.data, 1)\n",
    "print(\"conf=\"+cof)\n",
    "print(\"predicted=\"+predicted)"
   ],
   "metadata": {
    "trusted": true,
    "pycharm": {
     "name": "#%%\n"
    }
   },
   "execution_count": null,
   "outputs": []
  },
  {
   "cell_type": "code",
   "source": [
    "# get the class name of the prediction\n",
    "\n",
    "# car_classification\n",
    "# display(Image.open(dataset_dir+\"test/Mercedes-Benz C-Class Sedan 2012/01977.jpg\"))\n",
    "\n",
    "# bird_classification\n",
    "# display(Image.open(dataset_dir+\"test/ABBOTTS BABBLER/1.jpg\"))\n",
    "\n",
    "# cat_classification\n",
    "# display(Image.open(dataset_dir+\"cat/test/American Bobtail/AmericanBobtail-13611304_5083.jpg\"))\n",
    "\n",
    "# dog_classification\n",
    "# display(Image.open(dataset_dir+\"dog/test/afghan_hound/08829c00da02dea80eb491122989492f.jpg\"))\n",
    "# human_age_classification\n",
    "display(Image.open(dataset_dir+\"/test/affenpinscher/42404238339c427c0fb830da89885d5e.jpg\"))\n",
    "print(classes[predicted.item()], \"confidence: \", conf.item())"
   ],
   "metadata": {
    "trusted": true,
    "pycharm": {
     "name": "#%%\n"
    }
   },
   "execution_count": null,
   "outputs": []
  },
  {
   "cell_type": "code",
   "source": [
    "import os\n",
    "os.chdir('/kaggle/working')\n",
    "print(os.getcwd())\n",
    "print(os.listdir('/kaggle/working'))\n",
    "from IPython.display import FileLink\n",
    "FileLink('identification_dog.pt')"
   ],
   "metadata": {
    "trusted": true,
    "pycharm": {
     "name": "#%%\n"
    }
   },
   "execution_count": null,
   "outputs": []
  }
 ]
}